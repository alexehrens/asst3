{
 "cells": [
  {
   "cell_type": "markdown",
   "metadata": {},
   "source": [
    "## Coronavirus Cases and Social Distancing Scores in Southern California\n"
   ]
  },
  {
   "cell_type": "markdown",
   "metadata": {},
   "source": [
    "#### Alex Ehrens\n",
    "#### ESM267 Asst. 3"
   ]
  },
  {
   "cell_type": "markdown",
   "metadata": {},
   "source": [
    "In the ArcGIS Living Atlas, I have found two data layers: one with the number of confirmed Covid-19 cases by county and one with a \"social distancing\" score by county. The social distancing score comes from Unacast and assigns counties a grade based on the percent change in average distance travelled and visitation to non-essential venues relative to before Covid. Better grades are given to counties where there has been a larger decrease in travel and non-essential visits. I have displayed information from both layers for counties in Southern California."
   ]
  },
  {
   "cell_type": "code",
   "execution_count": 1,
   "metadata": {},
   "outputs": [],
   "source": [
    "# store layer IDs\n",
    "cases_service_id = \"628578697fb24d8ea4c32fa0c5ae1843\"\n",
    "scores_service_id = \"ab72fb3e9bf24d9594f0b942718bffeb\""
   ]
  },
  {
   "cell_type": "code",
   "execution_count": 2,
   "metadata": {},
   "outputs": [],
   "source": [
    "# import GIS module\n",
    "from arcgis.gis import GIS\n",
    "\n",
    "# import other modules\n",
    "from arcgis.features import FeatureLayer"
   ]
  },
  {
   "cell_type": "code",
   "execution_count": 3,
   "metadata": {},
   "outputs": [],
   "source": [
    "# using anonymous server to make life easier for Frew\n",
    "my_gis = GIS()"
   ]
  },
  {
   "cell_type": "markdown",
   "metadata": {},
   "source": [
    "Now it's time to start putting my map together:"
   ]
  },
  {
   "cell_type": "code",
   "execution_count": 4,
   "metadata": {},
   "outputs": [],
   "source": [
    "# start with default base map\n",
    "my_map = my_gis.map('Los Angeles, California', zoomlevel = 7)"
   ]
  },
  {
   "cell_type": "markdown",
   "metadata": {},
   "source": [
    "Gather the two data layers from publicly available content:"
   ]
  },
  {
   "cell_type": "code",
   "execution_count": 5,
   "metadata": {},
   "outputs": [
    {
     "data": {
      "text/html": [
       "<div class=\"item_container\" style=\"height: auto; overflow: hidden; border: 1px solid #cfcfcf; border-radius: 2px; background: #f6fafa; line-height: 1.21429em; padding: 10px;\">\n",
       "                    <div class=\"item_left\" style=\"width: 210px; float: left;\">\n",
       "                       <a href='https://www.arcgis.com/home/item.html?id=ab72fb3e9bf24d9594f0b942718bffeb' target='_blank'>\n",
       "                        <img src='https://www.arcgis.com/sharing/rest//content/items/ab72fb3e9bf24d9594f0b942718bffeb/info/thumbnail/thumbnail1588024358365.jpeg' class=\"itemThumbnail\">\n",
       "                       </a>\n",
       "                    </div>\n",
       "\n",
       "                    <div class=\"item_right\"     style=\"float: none; width: auto; overflow: hidden;\">\n",
       "                        <a href='https://www.arcgis.com/home/item.html?id=ab72fb3e9bf24d9594f0b942718bffeb' target='_blank'><b>Unacast Social Distancing Score (Latest Available)</b>\n",
       "                        </a>\n",
       "                        <br/>Using the change in average distance traveled from pre-COVID-19 days, visitation to non-essential venues, and difference in encounter density, we determined a \"Social Distancing\" score for each county nationwide. This data is updated twice weekly.<img src='https://www.arcgis.com/home/js/jsapi/esri/css/images/item_type_icons/featureshosted16.png' style=\"vertical-align:middle;\">Feature Layer Collection by Unacast_Partner\n",
       "                        <br/>Last Modified: August 04, 2020\n",
       "                        <br/>10 comments, 13,998,297 views\n",
       "                    </div>\n",
       "                </div>\n",
       "                "
      ],
      "text/plain": [
       "<Item title:\"Unacast Social Distancing Score (Latest Available)\" type:Feature Layer Collection owner:Unacast_Partner>"
      ]
     },
     "execution_count": 5,
     "metadata": {},
     "output_type": "execute_result"
    }
   ],
   "source": [
    "# add social distancing score layer\n",
    "scores = my_gis.content.get(scores_service_id)\n",
    "scores"
   ]
  },
  {
   "cell_type": "code",
   "execution_count": 6,
   "metadata": {},
   "outputs": [
    {
     "data": {
      "text/html": [
       "<div class=\"item_container\" style=\"height: auto; overflow: hidden; border: 1px solid #cfcfcf; border-radius: 2px; background: #f6fafa; line-height: 1.21429em; padding: 10px;\">\n",
       "                    <div class=\"item_left\" style=\"width: 210px; float: left;\">\n",
       "                       <a href='https://www.arcgis.com/home/item.html?id=628578697fb24d8ea4c32fa0c5ae1843' target='_blank'>\n",
       "                        <img src='https://www.arcgis.com/sharing/rest//content/items/628578697fb24d8ea4c32fa0c5ae1843/info/thumbnail/thumbnail1584926359474.png' class=\"itemThumbnail\">\n",
       "                       </a>\n",
       "                    </div>\n",
       "\n",
       "                    <div class=\"item_right\"     style=\"float: none; width: auto; overflow: hidden;\">\n",
       "                        <a href='https://www.arcgis.com/home/item.html?id=628578697fb24d8ea4c32fa0c5ae1843' target='_blank'><b>COVID-19 Cases US</b>\n",
       "                        </a>\n",
       "                        <br/>The current situation for the COVID-19 virus in the US updated hourly.<img src='https://www.arcgis.com/home/js/jsapi/esri/css/images/item_type_icons/featureshosted16.png' style=\"vertical-align:middle;\">Feature Layer Collection by CSSE_GISandData\n",
       "                        <br/>Last Modified: December 18, 2020\n",
       "                        <br/>0 comments, 189,255,889 views\n",
       "                    </div>\n",
       "                </div>\n",
       "                "
      ],
      "text/plain": [
       "<Item title:\"COVID-19 Cases US\" type:Feature Layer Collection owner:CSSE_GISandData>"
      ]
     },
     "execution_count": 6,
     "metadata": {},
     "output_type": "execute_result"
    }
   ],
   "source": [
    "# add Covid cases layer \n",
    "cases = my_gis.content.get(cases_service_id)\n",
    "cases"
   ]
  },
  {
   "cell_type": "markdown",
   "metadata": {},
   "source": [
    "Now that I have the layers that I'm interested in, I want to also add a layer outlining the counties of interest for this map (which are Southern California counties). To do that I need to query the attributes in one of the layers, selecting only those that have names matching the names of Southern California counties. But apparently the data I added up above was a Feature Service, which can't be queried. So I needed to find and upload the Feature Layer of one of the layers. I used the Unacast social distance score layer for this because I checked in its documentation that it had county_name as a field."
   ]
  },
  {
   "cell_type": "code",
   "execution_count": 7,
   "metadata": {},
   "outputs": [
    {
     "data": {
      "text/plain": [
       "[<FeatureLayer url:\"https://services.arcgis.com/DO4gTjwJVIJ7O9Ca/arcgis/rest/services/Unacast_Latest_Available__Visitation_and_Distance_/FeatureServer/0\">]"
      ]
     },
     "execution_count": 7,
     "metadata": {},
     "output_type": "execute_result"
    }
   ],
   "source": [
    "# find feature layer url\n",
    "scores_layer_url = scores.layers\n",
    "scores_layer_url"
   ]
  },
  {
   "cell_type": "code",
   "execution_count": 8,
   "metadata": {},
   "outputs": [
    {
     "data": {
      "text/plain": [
       "<FeatureLayer url:\"https://services.arcgis.com/DO4gTjwJVIJ7O9Ca/arcgis/rest/services/Unacast_Latest_Available__Visitation_and_Distance_/FeatureServer/0\">"
      ]
     },
     "execution_count": 8,
     "metadata": {},
     "output_type": "execute_result"
    }
   ],
   "source": [
    "# use feature url to upload as feature layer for scores data (because it has county_name field to query)\n",
    "scores_lyr_url = 'https://services.arcgis.com/DO4gTjwJVIJ7O9Ca/arcgis/rest/services/Unacast_Latest_Available__Visitation_and_Distance_/FeatureServer/0'\n",
    "\n",
    "scores_layer = FeatureLayer(scores_lyr_url)\n",
    "scores_layer"
   ]
  },
  {
   "cell_type": "code",
   "execution_count": 9,
   "metadata": {},
   "outputs": [
    {
     "name": "stdout",
     "output_type": "stream",
     "text": [
      "OBJECTID\n",
      "state_code\n",
      "state_fips\n",
      "state_name\n",
      "county_fips\n",
      "county_name\n",
      "county_population\n",
      "last_updated\n",
      "localeventdate\n",
      "weekday\n",
      "covid\n",
      "grade_total\n",
      "n_grade_total\n",
      "daily_distance_diff\n",
      "grade_distance\n",
      "n_grade_distance\n",
      "daily_visitation_diff\n",
      "grade_visitation\n",
      "n_grade_visitation\n",
      "encounters_rate\n",
      "grade_encounters\n",
      "n_grade_encounters\n",
      "county_fips_int\n",
      "Shape__Area\n",
      "Shape__Length\n"
     ]
    }
   ],
   "source": [
    "# just double checking the list of field names\n",
    "for f in scores_layer.properties.fields:\n",
    "    print(f['name'])"
   ]
  },
  {
   "cell_type": "code",
   "execution_count": 10,
   "metadata": {},
   "outputs": [],
   "source": [
    "# query features to get an outline of only Southern CA counties\n",
    "southern_ca_scores = scores_layer.query(where = \"county_name = 'San Luis Obispo County' OR county_name = 'Kern County' OR county_name = 'San Bernardino County' OR county_name = 'Santa Barbara County' OR county_name = 'Ventura County' OR county_name = 'Los Angeles County' OR county_name = 'Orange County' OR county_name = 'Riverside County' OR county_name = 'Imperial County' OR county_name = 'San Diego County'\")"
   ]
  },
  {
   "cell_type": "markdown",
   "metadata": {},
   "source": [
    "### My Map: Social distancing scores and Covid-19 cases in Southern California"
   ]
  },
  {
   "cell_type": "code",
   "execution_count": 11,
   "metadata": {},
   "outputs": [
    {
     "data": {
      "application/vnd.jupyter.widget-view+json": {
       "model_id": "d9f26a69008d46ccb47552a2581a1ee7",
       "version_major": 2,
       "version_minor": 0
      },
      "text/plain": [
       "MapView(layout=Layout(height='400px', width='100%'))"
      ]
     },
     "metadata": {},
     "output_type": "display_data"
    },
    {
     "data": {
      "text/html": [
       "<div class=\"map-static-img-preview-d931261b-0cfa-4084-b95f-7748c25ff008\"><img src=\"\"></img></div>"
      ],
      "text/plain": [
       "<IPython.core.display.HTML object>"
      ]
     },
     "metadata": {},
     "output_type": "display_data"
    },
    {
     "data": {
      "text/html": [
       "<div class=\"map-html-embed-preview-d931261b-0cfa-4084-b95f-7748c25ff008\"></div>"
      ],
      "text/plain": [
       "<IPython.core.display.HTML object>"
      ]
     },
     "metadata": {},
     "output_type": "display_data"
    }
   ],
   "source": [
    "# add my layers to my map\n",
    "my_map.add_layer(southern_ca_scores)\n",
    "my_map"
   ]
  },
  {
   "cell_type": "code",
   "execution_count": 12,
   "metadata": {},
   "outputs": [],
   "source": [
    "# had to add this layer in here again to order it properly\n",
    "my_map.add_layer(scores)\n",
    "my_map.add_layer(southern_ca_scores)\n",
    "my_map.add_layer(cases)"
   ]
  },
  {
   "cell_type": "markdown",
   "metadata": {},
   "source": [
    "Based on this map, it appears that Santa Barbara and San Luis Obispo Counties have been social distancing better than any other Southern California county. This means that residents of those counties have done better at reducing travel distance and visitations to non-essential venues. As a result, the amount of confirmed Covid-19 cases is relatively smaller in those counties, shown by the size of the red circle. Orange County has been the worst at social distancing, and Los Angeles and San Diego counties have also been bad. As a result, the number of confirmed cases are higher in those counties. Unfortunately, the Covid-19 cases data layer was missing data for Los Angeles County, as that would likely be the highest of any of the counties. This map goes to show that social distancing guidelines actually do help limit the spread of Covid-19 and more people should actually follow them! "
   ]
  }
 ],
 "metadata": {
  "kernelspec": {
   "display_name": "Python 3",
   "language": "python",
   "name": "python3"
  },
  "language_info": {
   "codemirror_mode": {
    "name": "ipython",
    "version": 3
   },
   "file_extension": ".py",
   "mimetype": "text/x-python",
   "name": "python",
   "nbconvert_exporter": "python",
   "pygments_lexer": "ipython3",
   "version": "3.8.5"
  }
 },
 "nbformat": 4,
 "nbformat_minor": 4
}
